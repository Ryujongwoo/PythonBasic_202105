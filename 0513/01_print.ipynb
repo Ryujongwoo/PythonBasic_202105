{
 "cells": [
  {
   "cell_type": "code",
   "execution_count": 1,
   "id": "2c98ae04",
   "metadata": {},
   "outputs": [],
   "source": [
    "# '#'으로 시작하면 1줄 주석을 의미한다. => 컴파일러(번역), 인터프리터(통역)가 번역하지 않는다. => 프로그램 실행과 아무런\n",
    "# 상관이 없다. => 설명\n",
    "# 알아두면 유용한 jupyter notebook 단축키\n",
    "# ctrl + Enter => 프로그램 실행, 프로그램을 실행한 셀에 커서가 위치한다.\n",
    "# shift + Enter => 프로그램 실행, 프로그램을 실행한 다음 셀로 커서가 이동된다.\n",
    "# 셀 선택 상태에서 a를 누르면 선택된 셀 앞에 빈 셀이 삽입된다.\n",
    "# 셀 선택 상태에서 b를 누르면 선택된 셀 앞에 빈 셀이 삽입된다.\n",
    "# 셀 선택 상태에서 dd를 누르면 선택된 셀이 삭제된다."
   ]
  },
  {
   "cell_type": "code",
   "execution_count": 8,
   "id": "cdd606ba",
   "metadata": {
    "scrolled": true
   },
   "outputs": [
    {
     "name": "stdout",
     "output_type": "stream",
     "text": [
      "Hello Python\n",
      "안녕 파이썬\n",
      "제2외국어를 배운 호랑이가 \"야옹\" 했습니다.\n",
      "제2외국어를 배운 고양이가 '어흥' 했습니다.\n",
      "제2외국어를 배운 호랑이가 '야옹' 했습니다.\n",
      "제2외국어를 배운 고양이가 \"어흥\" 했습니다.\n"
     ]
    }
   ],
   "source": [
    "# print() 함수는 ()안의 데이터를 출력하고 줄을 바꾼다.\n",
    "# 파이썬은 문자열 데이터를 표현할 때 데이터를 따옴표로 묶어준다. => 큰따옴표와 작은따옴표를 구분하지 않는다.\n",
    "print('Hello Python')\n",
    "print(\"안녕 파이썬\")\n",
    "print('제2외국어를 배운 호랑이가 \"야옹\" 했습니다.')\n",
    "print(\"제2외국어를 배운 고양이가 '어흥' 했습니다.\")\n",
    "print('제2외국어를 배운 호랑이가 \\'야옹\\' 했습니다.')\n",
    "print(\"제2외국어를 배운 고양이가 \\\"어흥\\\" 했습니다.\")"
   ]
  },
  {
   "cell_type": "code",
   "execution_count": 22,
   "id": "cabb9ba0",
   "metadata": {},
   "outputs": [
    {
     "name": "stdout",
     "output_type": "stream",
     "text": [
      "Hello \n",
      "Python 안녕 파이썬\n"
     ]
    }
   ],
   "source": [
    "# print() 함수로 출력 후 줄을 변경하지 않으려면 end 옵션을 사용하면 된다.\n",
    "# end 옵션은 print() 함수로 ()안의 내용을 출력한 후 출력할 내용을 지정한다. => end 옵션을 생략하면 end='\\n'이 기본값으로\n",
    "# 사용된다.\n",
    "# \\n => new line => 줄바꿈\n",
    "print('Hello \\nPython', end=' ')\n",
    "print(\"안녕 파이썬\")"
   ]
  },
  {
   "cell_type": "code",
   "execution_count": 26,
   "id": "c7256fc9",
   "metadata": {},
   "outputs": [
    {
     "name": "stdout",
     "output_type": "stream",
     "text": [
      "Hello Python 안녕 파이썬\n",
      "Hello Python 안녕 파이썬\n",
      "Hello Python~(^^~)안녕 파이썬\n"
     ]
    }
   ],
   "source": [
    "# print() 함수로 2개 이상의 데이터를 출력하려면 ','로 데이터를 구분하면 된다.\n",
    "# ','로 데이터를 구번하면 sep 옵션으로 지정한 내용이 데이터와 데이터 사이에 삽입되서 출력된다. => sep 옵션을 생략하면 공백이\n",
    "# 기본값으로 사용된다.\n",
    "print('Hello Python', \"안녕 파이썬\")\n",
    "print('Hello Python', \"안녕 파이썬\", sep=' ')\n",
    "print('Hello Python', \"안녕 파이썬\", sep='~(^^~)')"
   ]
  },
  {
   "cell_type": "code",
   "execution_count": null,
   "id": "05576bea",
   "metadata": {},
   "outputs": [],
   "source": []
  },
  {
   "cell_type": "code",
   "execution_count": null,
   "id": "08e61b3f",
   "metadata": {},
   "outputs": [],
   "source": []
  },
  {
   "cell_type": "code",
   "execution_count": null,
   "id": "337decd7",
   "metadata": {},
   "outputs": [],
   "source": []
  },
  {
   "cell_type": "code",
   "execution_count": null,
   "id": "b2175ec5",
   "metadata": {},
   "outputs": [],
   "source": []
  }
 ],
 "metadata": {
  "kernelspec": {
   "display_name": "Python 3",
   "language": "python",
   "name": "python3"
  },
  "language_info": {
   "codemirror_mode": {
    "name": "ipython",
    "version": 3
   },
   "file_extension": ".py",
   "mimetype": "text/x-python",
   "name": "python",
   "nbconvert_exporter": "python",
   "pygments_lexer": "ipython3",
   "version": "3.9.5"
  }
 },
 "nbformat": 4,
 "nbformat_minor": 5
}
