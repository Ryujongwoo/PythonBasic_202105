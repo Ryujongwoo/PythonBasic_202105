{
 "cells": [
  {
   "cell_type": "markdown",
   "id": "cced7892",
   "metadata": {},
   "source": [
    "class는 데이터와 데이터를 처리하는 함수(클래스 내부에서 만든 함수를 메소드라 부른다.)를 가지고 있는 사용자 정의 자료형이다."
   ]
  },
  {
   "cell_type": "code",
   "execution_count": 2,
   "id": "aa9aba92",
   "metadata": {},
   "outputs": [],
   "source": [
    "'''\n",
    "class 클래스이름: # 클래스 이름은 다른 변수와 헷갈리지 않게 하기 위해서 일반적으로 첫 문자를 대문자로 만들어 사용한다.\n",
    "    # 생성자(초기자) 함수를 선언한다. => __init__\n",
    "    # 생성자(constructor)란 객체(클래스로 만든 변수)가 생성될 때 자동으로 실행되는 함수이다.\n",
    "    # 클래스 내부에서 선언하는 모든 함수는 첫 번째 인수로 무조건 self를 써야한다. => self로 클래스 객체가 메모리에 생성된\n",
    "    # 주소가 자동으로 넘어와 저장된다. => 객체가 생성된 주소로 객체와 객체를 식별한다.\n",
    "    # 생성자는 class의 멤버 변수(클래스 내부의 모든 함수에서 사용할 수 있는 변수)를 초기화 시키는 목적으로 사용된다.\n",
    "    def __init__(self[, 인수, ...]):\n",
    "        # 멤버 변수 초기화\n",
    "        # 변수 앞에 'self.'을 붙여서 선언하는 변수를 멤버 변수라 부르고 클래스 내부의 모든 함수에서 사용할 수 있다.\n",
    "        # 변수 앞에 'self.'을 붙여서 선언하지 않는 변수를 지역 변수라 부르고 변수가 선언된 함수에서만 사용할 수 있다.\n",
    "'''\n",
    "pass"
   ]
  },
  {
   "cell_type": "code",
   "execution_count": 37,
   "id": "117ff6e7",
   "metadata": {},
   "outputs": [],
   "source": [
    "class Score:\n",
    "    # 생성자 함수로 Score 클래스 객체가 생성될 때 이름과 3과목 점수를 넘겨받아 멤버 변수를 초기화시키고 총점, 평균을 계산한다.\n",
    "    def __init__(self, name, python, java, android):\n",
    "        # print('Score 클래스 객체가 생성될 때 자동으로 실행됩니다.')\n",
    "        # print('Score 클래스 객체가 메모리에 생성된 주소 => {}'.format(self))\n",
    "        # 생성자 함수의 인수로 전달받은 데이터로 클래스의 멤버 변수를 초기화 시킨다.\n",
    "        self.name = name\n",
    "        self.python = python\n",
    "        self.java = java\n",
    "        self.android = android\n",
    "        # 총점과 평균을 계산해서 총점, 평균을 기억할 멤버 변수에 저장시킨다.\n",
    "        self.total = python + java + android\n",
    "        self.mean = self.total / 3\n",
    "        \n",
    "    # __str__(self) 함수는 클래스에 저장된 데이터의 출력 형태를 만들어 리턴시킨다. => 직접 print() 하면 안된다.\n",
    "    def __str__(self):\n",
    "        return '{}님의 평균 점수는 {}점 입니다.'.format(self.name, self.mean)\n",
    "    \n",
    "    # 총점을 얻어오는 함수\n",
    "    def getTotal(self):\n",
    "        return self.total\n",
    "    \n",
    "    # 평균을 얻어오는 함수\n",
    "    def getMean(self):\n",
    "        return self.mean"
   ]
  },
  {
   "cell_type": "code",
   "execution_count": 39,
   "id": "776c376c",
   "metadata": {},
   "outputs": [
    {
     "name": "stdout",
     "output_type": "stream",
     "text": [
      "홍길동님의 평균 점수는 99.66666666666667점 입니다.\n",
      "299\n",
      "99.66666666666667\n"
     ]
    }
   ],
   "source": [
    "# class 객체(변수) 선언 방법\n",
    "# 객체(변수)이름 = 클래스이름([생성자로 전달할 데이터, ...])\n",
    "# 클래스의 객체를 선언하면 클래스 객체가 메모리에 생성된 주소가 생성자의 self로 전달된다.\n",
    "score1 = Score('홍길동', 100, 100, 99)\n",
    "# 클래스에 __str__(self) 함수를 선언하지 않고 클래스 객체를 출력하면 객체에 저장된 데이터가 출력되는 것이 아니고 객체가\n",
    "# 메모리에 생성된 주소가 출력된다.\n",
    "print(score1)\n",
    "print(score1.getTotal())\n",
    "print(score1.getMean())"
   ]
  },
  {
   "cell_type": "code",
   "execution_count": 32,
   "id": "80121186",
   "metadata": {},
   "outputs": [
    {
     "name": "stdout",
     "output_type": "stream",
     "text": [
      "이름: 홍길동\n",
      "총점: 299\n",
      "평균: 99.66666666666667\n"
     ]
    }
   ],
   "source": [
    "# class 객체의 멤버 변수에 접근하는 방법 => 객체 이름 뒤에 '.'을 찍고 멤버 변수 이름을 쓴다.\n",
    "print('이름: {}'.format(score1.name))\n",
    "print('총점: {}'.format(score1.total))\n",
    "print('평균: {}'.format(score1.mean))"
   ]
  },
  {
   "cell_type": "code",
   "execution_count": 40,
   "id": "656a1838",
   "metadata": {},
   "outputs": [
    {
     "name": "stdout",
     "output_type": "stream",
     "text": [
      "임꺽정님의 평균 점수는 55.0점 입니다.\n",
      "165\n",
      "55.0\n"
     ]
    }
   ],
   "source": [
    "score2 = Score('임꺽정', 45, 69, 51)\n",
    "print(score2)\n",
    "print(score2.getTotal())\n",
    "print(score2.getMean())"
   ]
  },
  {
   "cell_type": "code",
   "execution_count": null,
   "id": "ca092792",
   "metadata": {},
   "outputs": [],
   "source": []
  },
  {
   "cell_type": "code",
   "execution_count": null,
   "id": "06f3ceb3",
   "metadata": {},
   "outputs": [],
   "source": []
  },
  {
   "cell_type": "code",
   "execution_count": null,
   "id": "b778071e",
   "metadata": {},
   "outputs": [],
   "source": []
  },
  {
   "cell_type": "code",
   "execution_count": null,
   "id": "3c7b8dc3",
   "metadata": {},
   "outputs": [],
   "source": []
  },
  {
   "cell_type": "code",
   "execution_count": null,
   "id": "d8b35cca",
   "metadata": {},
   "outputs": [],
   "source": []
  }
 ],
 "metadata": {
  "kernelspec": {
   "display_name": "Python 3",
   "language": "python",
   "name": "python3"
  },
  "language_info": {
   "codemirror_mode": {
    "name": "ipython",
    "version": 3
   },
   "file_extension": ".py",
   "mimetype": "text/x-python",
   "name": "python",
   "nbconvert_exporter": "python",
   "pygments_lexer": "ipython3",
   "version": "3.9.5"
  }
 },
 "nbformat": 4,
 "nbformat_minor": 5
}
