{
 "cells": [
  {
   "cell_type": "code",
   "execution_count": 3,
   "id": "141ae5fb",
   "metadata": {},
   "outputs": [
    {
     "name": "stdout",
     "output_type": "stream",
     "text": [
      "3.141592653589793\n"
     ]
    }
   ],
   "source": [
    "import math\n",
    "print(math.pi)"
   ]
  },
  {
   "cell_type": "code",
   "execution_count": 12,
   "id": "a4b9fd4e",
   "metadata": {},
   "outputs": [],
   "source": [
    "# 반지름을 인수로 넘겨받아 원의 둘레와 너비를 계산하는 함수를 포함하는 클래스\n",
    "class Circle:\n",
    "    def __init__(self, radius=1):\n",
    "        self.radius = radius\n",
    "        \n",
    "    def __str__(self):\n",
    "        return '반지름: {}'.format(self.radius)\n",
    "    \n",
    "    # 원의 둘레를 계산해서 출력하는 함수\n",
    "    def circumference(self):\n",
    "        print('반지름이 {0:.2f}인 원의 둘레는 {1:.2f} 입니다.'.format(self.radius, 2 * math.pi * self.radius))\n",
    "        \n",
    "    # 원의 너비를 계산해서 출력하는 함수\n",
    "    def area(self):\n",
    "        print('반지름이 {0:.2f}인 원의 너비는 {1:.2f} 입니다.'.format(self.radius, math.pi * self.radius ** 2))"
   ]
  },
  {
   "cell_type": "code",
   "execution_count": 14,
   "id": "55d9f79c",
   "metadata": {},
   "outputs": [
    {
     "name": "stdout",
     "output_type": "stream",
     "text": [
      "반지름: 10\n",
      "반지름이 10.00인 원의 둘레는 62.83 입니다.\n",
      "반지름이 10.00인 원의 너비는 314.16 입니다.\n"
     ]
    }
   ],
   "source": [
    "circle1 = Circle(10)\n",
    "print(circle1)\n",
    "circle1.circumference()\n",
    "circle1.area()"
   ]
  },
  {
   "cell_type": "code",
   "execution_count": 15,
   "id": "dd02dcc9",
   "metadata": {},
   "outputs": [
    {
     "name": "stdout",
     "output_type": "stream",
     "text": [
      "반지름: 5.5\n",
      "반지름이 5.50인 원의 둘레는 34.56 입니다.\n",
      "반지름이 5.50인 원의 너비는 95.03 입니다.\n"
     ]
    }
   ],
   "source": [
    "circle2 = Circle(5.5)\n",
    "print(circle2)\n",
    "circle2.circumference()\n",
    "circle2.area()"
   ]
  },
  {
   "cell_type": "code",
   "execution_count": null,
   "id": "94a5638e",
   "metadata": {},
   "outputs": [],
   "source": []
  },
  {
   "cell_type": "code",
   "execution_count": null,
   "id": "5575ffaa",
   "metadata": {},
   "outputs": [],
   "source": []
  },
  {
   "cell_type": "code",
   "execution_count": null,
   "id": "08e09f9a",
   "metadata": {},
   "outputs": [],
   "source": []
  },
  {
   "cell_type": "code",
   "execution_count": null,
   "id": "c02236f2",
   "metadata": {},
   "outputs": [],
   "source": []
  }
 ],
 "metadata": {
  "kernelspec": {
   "display_name": "Python 3",
   "language": "python",
   "name": "python3"
  },
  "language_info": {
   "codemirror_mode": {
    "name": "ipython",
    "version": 3
   },
   "file_extension": ".py",
   "mimetype": "text/x-python",
   "name": "python",
   "nbconvert_exporter": "python",
   "pygments_lexer": "ipython3",
   "version": "3.9.5"
  }
 },
 "nbformat": 4,
 "nbformat_minor": 5
}
