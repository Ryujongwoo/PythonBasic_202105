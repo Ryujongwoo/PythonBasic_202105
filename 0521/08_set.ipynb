{
 "cells": [
  {
   "cell_type": "code",
   "execution_count": 24,
   "id": "fdc1dc21",
   "metadata": {},
   "outputs": [],
   "source": [
    "# set 만들기\n",
    "# set은 수학의 집합과 비슷한 형태로 중복되는 데이터의 입력을 허용하지 않는 장점이 있지만 데이터를 입력하는 순서와 실제로 \n",
    "# 데이터가 저장되는 순서가 달라서 인덱싱과 슬라이싱을 사용할 수 없다.\n",
    "# 딕셔너리 처럼 {}를 사용해서 선언하지만 key가 존재하지 않고 value만 존재한다."
   ]
  },
  {
   "cell_type": "code",
   "execution_count": 25,
   "id": "b9683df3",
   "metadata": {},
   "outputs": [
    {
     "name": "stdout",
     "output_type": "stream",
     "text": [
      "{}\n",
      "<class 'dict'>\n",
      "set()\n",
      "<class 'set'>\n"
     ]
    }
   ],
   "source": [
    "# 빈 set 만들기\n",
    "a = {}\n",
    "print(a)\n",
    "print(type(a))\n",
    "# 빈 set을 만들어 사용하려면 반드시 생성자 함수를 이용해서 만들어야 한다.\n",
    "b = set()\n",
    "print(b)\n",
    "print(type(b))"
   ]
  },
  {
   "cell_type": "code",
   "execution_count": 26,
   "id": "2253ed9a",
   "metadata": {},
   "outputs": [
    {
     "name": "stdout",
     "output_type": "stream",
     "text": [
      "{1, 2, 3, 4}\n",
      "<class 'set'>\n"
     ]
    }
   ],
   "source": [
    "a = {1, 2, 3, 4}\n",
    "print(a)\n",
    "print(type(a))"
   ]
  },
  {
   "cell_type": "code",
   "execution_count": 27,
   "id": "cacf44fe",
   "metadata": {},
   "outputs": [
    {
     "name": "stdout",
     "output_type": "stream",
     "text": [
      "{1, 2, 3, 4, 5, 6}\n",
      "<class 'set'>\n"
     ]
    }
   ],
   "source": [
    "a = {1, 2, 3, 4, 5, 1, 4, 6, 1, 3, 1}\n",
    "print(a)\n",
    "print(type(a))"
   ]
  },
  {
   "cell_type": "code",
   "execution_count": 28,
   "id": "f4d4ea1f",
   "metadata": {},
   "outputs": [
    {
     "name": "stdout",
     "output_type": "stream",
     "text": [
      "{'홍길동'}\n",
      "{'임꺽정', '홍길동'}\n",
      "{'임꺽정', '장길산', '홍길동'}\n",
      "{'일지매', '임꺽정', '장길산', '홍길동'}\n",
      "{'일지매', '임꺽정', '장길산', '홍길동'}\n"
     ]
    }
   ],
   "source": [
    "# add() 메소드로 set에 데이터를 추가한다. => 데이터를 저장하는 순서와 실제 데이터가 저장되는 순서는 다르다.\n",
    "a = {'홍길동'}\n",
    "print(a)\n",
    "a.add('임꺽정')\n",
    "print(a)\n",
    "a.add('장길산')\n",
    "print(a)\n",
    "a.add('일지매')\n",
    "print(a)\n",
    "a.add('홍길동')\n",
    "print(a)\n",
    "\n",
    "# set은 데이터를 입력하는 순서와 저장되는 순서가 다르기 때문에 인덱싱과 슬라이싱을 사용할 수 없다.\n",
    "# print(a[0])   # 에러\n",
    "# print(a[1:3]) # 에러"
   ]
  },
  {
   "cell_type": "code",
   "execution_count": 29,
   "id": "2b38ec98",
   "metadata": {},
   "outputs": [
    {
     "name": "stdout",
     "output_type": "stream",
     "text": [
      "{'일지매', '임꺽정', '장길산', '홍길동'}\n",
      "{'일지매', '손오공', '장길산', '크리닝', '마인부우', '홍길동', '임꺽정'}\n",
      "{'베지터', '일지매', '손오공', '장길산', '크리닝', '마인부우', '홍길동', '트랭크스', '임꺽정', '브루마'}\n"
     ]
    }
   ],
   "source": [
    "# update() 메소드를 사용하면 리스트 또는 튜플을 사용해서 set에 여러건의 데이터를 한 번에 추가할 수 있다.\n",
    "print(a)\n",
    "a.update(['손오공', '크리닝', '마인부우'])\n",
    "print(a)\n",
    "a.update(['베지터', '브루마', '트랭크스'])\n",
    "print(a)"
   ]
  },
  {
   "cell_type": "code",
   "execution_count": 30,
   "id": "6a77ed52",
   "metadata": {},
   "outputs": [
    {
     "name": "stdout",
     "output_type": "stream",
     "text": [
      "{'일지매', '손오공', '장길산', '크리닝', '마인부우', '홍길동', '트랭크스', '임꺽정', '브루마'}\n"
     ]
    },
    {
     "ename": "KeyError",
     "evalue": "'베지터'",
     "output_type": "error",
     "traceback": [
      "\u001b[1;31m---------------------------------------------------------------------------\u001b[0m",
      "\u001b[1;31mKeyError\u001b[0m                                  Traceback (most recent call last)",
      "\u001b[1;32m<ipython-input-30-acfcb9727855>\u001b[0m in \u001b[0;36m<module>\u001b[1;34m\u001b[0m\n\u001b[0;32m      2\u001b[0m \u001b[0ma\u001b[0m\u001b[1;33m.\u001b[0m\u001b[0mremove\u001b[0m\u001b[1;33m(\u001b[0m\u001b[1;34m'베지터'\u001b[0m\u001b[1;33m)\u001b[0m\u001b[1;33m\u001b[0m\u001b[1;33m\u001b[0m\u001b[0m\n\u001b[0;32m      3\u001b[0m \u001b[0mprint\u001b[0m\u001b[1;33m(\u001b[0m\u001b[0ma\u001b[0m\u001b[1;33m)\u001b[0m\u001b[1;33m\u001b[0m\u001b[1;33m\u001b[0m\u001b[0m\n\u001b[1;32m----> 4\u001b[1;33m \u001b[0ma\u001b[0m\u001b[1;33m.\u001b[0m\u001b[0mremove\u001b[0m\u001b[1;33m(\u001b[0m\u001b[1;34m'베지터'\u001b[0m\u001b[1;33m)\u001b[0m \u001b[1;31m# set에 저장되지 않은 데이터를 삭제하려 했으므로 에러가 발생된다.\u001b[0m\u001b[1;33m\u001b[0m\u001b[1;33m\u001b[0m\u001b[0m\n\u001b[0m\u001b[0;32m      5\u001b[0m \u001b[0mprint\u001b[0m\u001b[1;33m(\u001b[0m\u001b[0ma\u001b[0m\u001b[1;33m)\u001b[0m\u001b[1;33m\u001b[0m\u001b[1;33m\u001b[0m\u001b[0m\n",
      "\u001b[1;31mKeyError\u001b[0m: '베지터'"
     ]
    }
   ],
   "source": [
    "# remove() 메소드로 set에 저장된 데이터를 지정해서 제거할 수 있다.\n",
    "a.remove('베지터')\n",
    "print(a)\n",
    "a.remove('베지터') # set에 저장되지 않은 데이터를 삭제하려 했으므로 에러가 발생된다.\n",
    "print(a)"
   ]
  },
  {
   "cell_type": "code",
   "execution_count": 32,
   "id": "ebf0d4f0",
   "metadata": {},
   "outputs": [
    {
     "name": "stdout",
     "output_type": "stream",
     "text": [
      "{'일지매', '손오공', '장길산', '크리닝', '홍길동', '트랭크스', '임꺽정', '브루마'}\n",
      "{'일지매', '손오공', '장길산', '크리닝', '홍길동', '트랭크스', '임꺽정', '브루마'}\n"
     ]
    }
   ],
   "source": [
    "# discard() 메소드로 set에 저장된 데이터를 지정해서 제거할 수 있다.\n",
    "a.discard('마인부우')\n",
    "print(a)\n",
    "a.discard('마인부우') # set에 존재하지 않는 데이터를 제거하려 해도 에러가 발생되지 않는다.\n",
    "print(a)"
   ]
  },
  {
   "cell_type": "code",
   "execution_count": 33,
   "id": "b1c8310e",
   "metadata": {},
   "outputs": [
    {
     "name": "stdout",
     "output_type": "stream",
     "text": [
      "set()\n"
     ]
    }
   ],
   "source": [
    "# clear() 메소드로 set에 저장된 모든 데이터를 제거할 수 있다.\n",
    "a.clear()\n",
    "print(a)"
   ]
  },
  {
   "cell_type": "code",
   "execution_count": 34,
   "id": "2ebef422",
   "metadata": {},
   "outputs": [
    {
     "ename": "NameError",
     "evalue": "name 'a' is not defined",
     "output_type": "error",
     "traceback": [
      "\u001b[1;31m---------------------------------------------------------------------------\u001b[0m",
      "\u001b[1;31mNameError\u001b[0m                                 Traceback (most recent call last)",
      "\u001b[1;32m<ipython-input-34-5ca62dafe668>\u001b[0m in \u001b[0;36m<module>\u001b[1;34m\u001b[0m\n\u001b[0;32m      1\u001b[0m \u001b[1;31m# del 명령으로 set 자체를 제거할 수 있다.\u001b[0m\u001b[1;33m\u001b[0m\u001b[1;33m\u001b[0m\u001b[1;33m\u001b[0m\u001b[0m\n\u001b[0;32m      2\u001b[0m \u001b[1;32mdel\u001b[0m \u001b[0ma\u001b[0m\u001b[1;33m\u001b[0m\u001b[1;33m\u001b[0m\u001b[0m\n\u001b[1;32m----> 3\u001b[1;33m \u001b[0mprint\u001b[0m\u001b[1;33m(\u001b[0m\u001b[0ma\u001b[0m\u001b[1;33m)\u001b[0m\u001b[1;33m\u001b[0m\u001b[1;33m\u001b[0m\u001b[0m\n\u001b[0m",
      "\u001b[1;31mNameError\u001b[0m: name 'a' is not defined"
     ]
    }
   ],
   "source": [
    "# del 명령으로 set 자체를 제거할 수 있다.\n",
    "del a\n",
    "print(a)"
   ]
  },
  {
   "cell_type": "markdown",
   "id": "dd7fdd45",
   "metadata": {},
   "source": [
    "집합 연산자와 메소드"
   ]
  },
  {
   "cell_type": "code",
   "execution_count": 47,
   "id": "2e639e92",
   "metadata": {},
   "outputs": [
    {
     "name": "stdout",
     "output_type": "stream",
     "text": [
      "{1, 2, 3, 4, 5, 6, 7}\n",
      "{1, 2, 3, 4, 5, 6, 7}\n",
      "================================================================================\n",
      "{3, 4, 5}\n",
      "{3, 4, 5}\n",
      "================================================================================\n",
      "{1, 2}\n",
      "{1, 2}\n",
      "{6, 7}\n",
      "{6, 7}\n",
      "================================================================================\n",
      "{1, 2, 6, 7}\n",
      "{1, 2, 6, 7}\n"
     ]
    }
   ],
   "source": [
    "a = {1, 2, 3, 4, 5}\n",
    "b = {3, 4, 5, 6, 7}\n",
    "\n",
    "# 합집합\n",
    "print(a.union(b))\n",
    "print(a | b)\n",
    "print('=' * 80)\n",
    "\n",
    "# 교집합\n",
    "print(a.intersection(b))\n",
    "print(a & b)\n",
    "print('=' * 80)\n",
    "\n",
    "# 차집합\n",
    "print(a.difference(b))\n",
    "print(a - b)\n",
    "print(b.difference(a))\n",
    "print(b - a)\n",
    "print('=' * 80)\n",
    "\n",
    "# 대칭 차집합 => 합집합 - 교집합\n",
    "print(a.symmetric_difference(b))\n",
    "print(a ^ b)"
   ]
  },
  {
   "cell_type": "code",
   "execution_count": null,
   "id": "c9475fee",
   "metadata": {},
   "outputs": [],
   "source": []
  },
  {
   "cell_type": "code",
   "execution_count": null,
   "id": "abbc6672",
   "metadata": {},
   "outputs": [],
   "source": []
  },
  {
   "cell_type": "code",
   "execution_count": null,
   "id": "26692395",
   "metadata": {},
   "outputs": [],
   "source": []
  },
  {
   "cell_type": "code",
   "execution_count": null,
   "id": "18e0a3c7",
   "metadata": {},
   "outputs": [],
   "source": []
  },
  {
   "cell_type": "code",
   "execution_count": null,
   "id": "8f632fc1",
   "metadata": {},
   "outputs": [],
   "source": []
  },
  {
   "cell_type": "code",
   "execution_count": null,
   "id": "5585b506",
   "metadata": {},
   "outputs": [],
   "source": []
  },
  {
   "cell_type": "code",
   "execution_count": null,
   "id": "d1e36228",
   "metadata": {},
   "outputs": [],
   "source": []
  },
  {
   "cell_type": "code",
   "execution_count": null,
   "id": "aaf2664b",
   "metadata": {},
   "outputs": [],
   "source": []
  },
  {
   "cell_type": "code",
   "execution_count": null,
   "id": "7e8f99bc",
   "metadata": {},
   "outputs": [],
   "source": []
  }
 ],
 "metadata": {
  "kernelspec": {
   "display_name": "Python 3",
   "language": "python",
   "name": "python3"
  },
  "language_info": {
   "codemirror_mode": {
    "name": "ipython",
    "version": 3
   },
   "file_extension": ".py",
   "mimetype": "text/x-python",
   "name": "python",
   "nbconvert_exporter": "python",
   "pygments_lexer": "ipython3",
   "version": "3.9.5"
  }
 },
 "nbformat": 4,
 "nbformat_minor": 5
}
