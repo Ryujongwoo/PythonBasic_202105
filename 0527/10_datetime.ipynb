{
 "cells": [
  {
   "cell_type": "markdown",
   "id": "d77b89b1",
   "metadata": {},
   "source": [
    "컴퓨터 시스템의 날짜와 시간을 얻어온다.  \n",
    "datetime 패키지의 datetime 클래스의 now() 메소드로 컴퓨터 시스템의 날짜와 시간을 얻어올 수 있다."
   ]
  },
  {
   "cell_type": "code",
   "execution_count": 7,
   "id": "2b64e65c",
   "metadata": {},
   "outputs": [
    {
     "name": "stdout",
     "output_type": "stream",
     "text": [
      "2021-05-27 19:12:57.923357\n"
     ]
    }
   ],
   "source": [
    "# datetime 패키지 전체를 import 시킨다.\n",
    "import datetime\n",
    "now = datetime.datetime.now()\n",
    "print(now)"
   ]
  },
  {
   "cell_type": "code",
   "execution_count": 8,
   "id": "d1b1be17",
   "metadata": {},
   "outputs": [
    {
     "name": "stdout",
     "output_type": "stream",
     "text": [
      "2021-05-27 19:12:57.933357\n"
     ]
    }
   ],
   "source": [
    "# datetime 패키지의 datetime 클래스만 import 시킨다.\n",
    "from datetime import datetime\n",
    "now2 = datetime.now()\n",
    "print(now2)"
   ]
  },
  {
   "cell_type": "code",
   "execution_count": 9,
   "id": "ef56ac3d",
   "metadata": {},
   "outputs": [
    {
     "name": "stdout",
     "output_type": "stream",
     "text": [
      "2021-05-27 19:12:57.944356\n"
     ]
    }
   ],
   "source": [
    "# datetime 패키지의 datetime 클래스만 import 시키고 as 예약어를 사용해서 별명을 지정한다.\n",
    "from datetime import datetime as dt\n",
    "now3 = dt.now()\n",
    "print(now3)"
   ]
  },
  {
   "cell_type": "code",
   "execution_count": 17,
   "id": "f175e452",
   "metadata": {},
   "outputs": [
    {
     "name": "stdout",
     "output_type": "stream",
     "text": [
      "년: 2021\n",
      "월: 5\n",
      "일: 27\n",
      "시: 19\n",
      "분: 12\n",
      "초: 57\n",
      "마이크로초: 944356\n",
      "밀리초: 944\n",
      "요일: 3\n",
      "요일: 목\n"
     ]
    }
   ],
   "source": [
    "print('년: {}'.format(now3.year))\n",
    "print('월: {}'.format(now3.month))\n",
    "print('일: {}'.format(now3.day))\n",
    "print('시: {}'.format(now3.hour))\n",
    "print('분: {}'.format(now3.minute))\n",
    "print('초: {}'.format(now3.second))\n",
    "print('마이크로초: {}'.format(now3.microsecond))\n",
    "print('밀리초: {}'.format(now3.microsecond // 1000))\n",
    "# weekday() 메소드로 요일을 숫자로 얻어온다. => 월(0), 화(1), 수(2), 목(3), 금(4), 토(5), 일(6)\n",
    "print('요일: {}'.format(now3.weekday()))\n",
    "week = ['월', '화', '수', '목', '금', '토', '일']\n",
    "print('요일: {}'.format(week[now3.weekday()]))"
   ]
  },
  {
   "cell_type": "code",
   "execution_count": null,
   "id": "c167b5f8",
   "metadata": {},
   "outputs": [],
   "source": []
  },
  {
   "cell_type": "code",
   "execution_count": null,
   "id": "5ec9046e",
   "metadata": {},
   "outputs": [],
   "source": []
  },
  {
   "cell_type": "code",
   "execution_count": null,
   "id": "8d593db0",
   "metadata": {},
   "outputs": [],
   "source": []
  },
  {
   "cell_type": "code",
   "execution_count": null,
   "id": "e50cd2c5",
   "metadata": {},
   "outputs": [],
   "source": []
  },
  {
   "cell_type": "code",
   "execution_count": null,
   "id": "eaadbea8",
   "metadata": {},
   "outputs": [],
   "source": []
  },
  {
   "cell_type": "code",
   "execution_count": null,
   "id": "b26aa8b8",
   "metadata": {},
   "outputs": [],
   "source": []
  }
 ],
 "metadata": {
  "kernelspec": {
   "display_name": "Python 3",
   "language": "python",
   "name": "python3"
  },
  "language_info": {
   "codemirror_mode": {
    "name": "ipython",
    "version": 3
   },
   "file_extension": ".py",
   "mimetype": "text/x-python",
   "name": "python",
   "nbconvert_exporter": "python",
   "pygments_lexer": "ipython3",
   "version": "3.9.5"
  }
 },
 "nbformat": 4,
 "nbformat_minor": 5
}
