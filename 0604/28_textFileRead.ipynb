{
 "cells": [
  {
   "cell_type": "code",
   "execution_count": 8,
   "id": "3216a29f",
   "metadata": {},
   "outputs": [
    {
     "name": "stdout",
     "output_type": "stream",
     "text": [
      "data.txt 파일에서 읽기 완료\n",
      "['ㅣㅓㅏㄹㄴ어ㅏㅣㄹㅇ너ㅏㅣ\\\\ㄹㄴ어ㅏㅣㄹㅇ너ㅏㅣ', ';ㅓㅏㅣㄹㅈ아ㅓㅣ;ㅈㄷ라ㅓㅣ', 'ㄹㄴ어ㅏㅣㄹㄴ어ㅏㅣㄹㄴㅇ', 'ㅣㅓㅏㄹㄴ어ㅏㅣㄹㄴㅇ', '\\\\ㅈㄷ거ㅏㅣㅓㅏㅣㄹㄴㅇㅁ', 'lujifsdjklfsdjklfsd', 'fsdjklfsdjkljklfds]\\\\jklwerkljfdsjklklfsdj', 'hjiklwerfjkolfdsjklsfd', 'fjklfasjkllasf', 'fdsjklfsdjklfsd']\n"
     ]
    }
   ],
   "source": [
    "file = open('./data/save.txt', 'r')\n",
    "# readline() 메소드로 텍스트 파일의 내용을 한 줄씩 읽어들인다.\n",
    "# 텍스트 파일에 저장된 데이터가 몇 줄인지 알 수 없으므로 무한 루프를 돌려서 읽는다.\n",
    "lines = []\n",
    "while True:\n",
    "    line = file.readline()\n",
    "    # 텍스트 파일에서 읽어들인 데이터가 없을 경우 무한루프를 탈출시킨다.\n",
    "    if not line: # readline() 메소드로 읽어들인 데이터가 없는가? 파일의 끝인가?\n",
    "        break\n",
    "    # 읽어들인 데이터가 빈 줄(읽어들인 데이터가 모두 공백)이면 출력하지 않는다.\n",
    "    if len(line.strip()) != 0:\n",
    "        # print(line, end='')\n",
    "        # print(line.strip())\n",
    "        lines.append(line.strip())\n",
    "file.close()\n",
    "print('data.txt 파일에서 읽기 완료')\n",
    "print(lines)"
   ]
  },
  {
   "cell_type": "code",
   "execution_count": 10,
   "id": "f9d2b273",
   "metadata": {},
   "outputs": [
    {
     "name": "stdout",
     "output_type": "stream",
     "text": [
      "data.txt 파일에서 읽기 완료\n",
      "<class 'list'>\n",
      "['ㅣㅓㅏㄹㄴ어ㅏㅣㄹㅇ너ㅏㅣ\\\\ㄹㄴ어ㅏㅣㄹㅇ너ㅏㅣ\\n', ';ㅓㅏㅣㄹㅈ아ㅓㅣ;ㅈㄷ라ㅓㅣ\\n', 'ㄹㄴ어ㅏㅣㄹㄴ어ㅏㅣㄹㄴㅇ\\n', 'ㅣㅓㅏㄹㄴ어ㅏㅣㄹㄴㅇ\\n', '\\\\ㅈㄷ거ㅏㅣㅓㅏㅣㄹㄴㅇㅁ\\n', 'lujifsdjklfsdjklfsd\\n', 'fsdjklfsdjkljklfds]\\\\jklwerkljfdsjklklfsdj\\n', 'hjiklwerfjkolfdsjklsfd\\n', 'fjklfasjkllasf\\n', 'fdsjklfsdjklfsd\\n']\n"
     ]
    }
   ],
   "source": [
    "file = open('./data/save.txt', 'r')\n",
    "# readlines() 메소드는 텍스트 파일의 전체 데이터를 한꺼번에 읽어서 리스트로 얻어온다.\n",
    "lines = file.readlines()\n",
    "file.close()\n",
    "print('data.txt 파일에서 읽기 완료')\n",
    "print(type(lines))\n",
    "print(lines)"
   ]
  },
  {
   "cell_type": "code",
   "execution_count": null,
   "id": "76800bfb",
   "metadata": {},
   "outputs": [],
   "source": []
  },
  {
   "cell_type": "code",
   "execution_count": null,
   "id": "32892aee",
   "metadata": {},
   "outputs": [],
   "source": []
  },
  {
   "cell_type": "code",
   "execution_count": null,
   "id": "eea91a66",
   "metadata": {},
   "outputs": [],
   "source": []
  },
  {
   "cell_type": "code",
   "execution_count": null,
   "id": "71da0fa0",
   "metadata": {},
   "outputs": [],
   "source": []
  },
  {
   "cell_type": "code",
   "execution_count": null,
   "id": "fe68bcec",
   "metadata": {},
   "outputs": [],
   "source": []
  },
  {
   "cell_type": "code",
   "execution_count": null,
   "id": "16bdee41",
   "metadata": {},
   "outputs": [],
   "source": []
  },
  {
   "cell_type": "code",
   "execution_count": null,
   "id": "a522d7cd",
   "metadata": {},
   "outputs": [],
   "source": []
  }
 ],
 "metadata": {
  "kernelspec": {
   "display_name": "Python 3",
   "language": "python",
   "name": "python3"
  },
  "language_info": {
   "codemirror_mode": {
    "name": "ipython",
    "version": 3
   },
   "file_extension": ".py",
   "mimetype": "text/x-python",
   "name": "python",
   "nbconvert_exporter": "python",
   "pygments_lexer": "ipython3",
   "version": "3.9.5"
  }
 },
 "nbformat": 4,
 "nbformat_minor": 5
}
