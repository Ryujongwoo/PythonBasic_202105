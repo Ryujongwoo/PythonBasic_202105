{
 "cells": [
  {
   "cell_type": "markdown",
   "id": "7d4e5f5a",
   "metadata": {},
   "source": [
    "import된 모듈의 이름이 길어서 사용하기 불편하면 'as' 예약어를 사용해서 import된 모듈의 별명을 지정할 수 있다.  \n",
    "모듈에 별명을 지정하면 더 이상 기존 모듈의 이름을 사용할 수 없고 별명으로 지정된 이름을 사용해야 한다."
   ]
  },
  {
   "cell_type": "code",
   "execution_count": 1,
   "id": "0a3c42b6",
   "metadata": {},
   "outputs": [],
   "source": [
    "import calendarModule as cm"
   ]
  },
  {
   "cell_type": "code",
   "execution_count": 2,
   "id": "313911d9",
   "metadata": {},
   "outputs": [
    {
     "name": "stdout",
     "output_type": "stream",
     "text": [
      "달력을 출력할 년, 월을 입력하세요: 2021 6\n",
      "============================\n",
      "         2021년 6월\n",
      "============================\n",
      " 일  월  화  수  목  금  토 \n",
      "============================\n",
      "          1   2   3   4   5 \n",
      "  6   7   8   9  10  11  12 \n",
      " 13  14  15  16  17  18  19 \n",
      " 20  21  22  23  24  25  26 \n",
      " 27  28  29  30 \n",
      "============================\n"
     ]
    }
   ],
   "source": [
    "year, month = map(int, input('달력을 출력할 년, 월을 입력하세요: ').split())\n",
    "\n",
    "print('=' * 28)\n",
    "print('         {0:4d}년{1:2d}월'.format(year, month))\n",
    "print('=' * 28)\n",
    "print(' 일  월  화  수  목  금  토 ')\n",
    "print('=' * 28)\n",
    "\n",
    "for i in range(cm.weekDay(year, month, 1)):\n",
    "    print('    ', end='')\n",
    "\n",
    "for i in range(1, cm.lastDay(year, month) + 1):\n",
    "    print(' {0:2d} '.format(i), end='')\n",
    "    if cm.weekDay(year, month, i) == 6 and i != cm.lastDay(year, month):\n",
    "        print()\n",
    "print('\\n' + '=' * 28)"
   ]
  },
  {
   "cell_type": "code",
   "execution_count": null,
   "id": "92311217",
   "metadata": {},
   "outputs": [],
   "source": []
  },
  {
   "cell_type": "code",
   "execution_count": null,
   "id": "5b93e230",
   "metadata": {},
   "outputs": [],
   "source": []
  },
  {
   "cell_type": "code",
   "execution_count": null,
   "id": "b6ab8678",
   "metadata": {},
   "outputs": [],
   "source": []
  },
  {
   "cell_type": "code",
   "execution_count": null,
   "id": "cc37c34c",
   "metadata": {},
   "outputs": [],
   "source": []
  },
  {
   "cell_type": "code",
   "execution_count": null,
   "id": "1238bf74",
   "metadata": {},
   "outputs": [],
   "source": []
  },
  {
   "cell_type": "code",
   "execution_count": null,
   "id": "3d2f2b07",
   "metadata": {},
   "outputs": [],
   "source": []
  },
  {
   "cell_type": "code",
   "execution_count": null,
   "id": "299d0c35",
   "metadata": {},
   "outputs": [],
   "source": []
  },
  {
   "cell_type": "code",
   "execution_count": null,
   "id": "e454a7e9",
   "metadata": {},
   "outputs": [],
   "source": []
  },
  {
   "cell_type": "code",
   "execution_count": null,
   "id": "69be97ab",
   "metadata": {},
   "outputs": [],
   "source": []
  }
 ],
 "metadata": {
  "kernelspec": {
   "display_name": "Python 3",
   "language": "python",
   "name": "python3"
  },
  "language_info": {
   "codemirror_mode": {
    "name": "ipython",
    "version": 3
   },
   "file_extension": ".py",
   "mimetype": "text/x-python",
   "name": "python",
   "nbconvert_exporter": "python",
   "pygments_lexer": "ipython3",
   "version": "3.9.5"
  }
 },
 "nbformat": 4,
 "nbformat_minor": 5
}
