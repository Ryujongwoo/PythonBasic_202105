{
 "cells": [
  {
   "cell_type": "markdown",
   "id": "7d4e5f5a",
   "metadata": {},
   "source": [
    "import된 모듈의 특정 함수만 import 시켜서 사용하려면 아래와 같이 import 시키면 된다.  \n",
    "from 모듈이름 import 함수이름 => from 다음에 지정한 모듈의 모든 함수를 import 시키지 않고 지정한 함수만 import 된다.  \n",
    "이와 같이 import 시키면 함수 앞에 모듈 이름을 쓰지 않아도 된다."
   ]
  },
  {
   "cell_type": "code",
   "execution_count": 1,
   "id": "0a3c42b6",
   "metadata": {},
   "outputs": [],
   "source": [
    "# from calendarModule import weekDay # calendarModule 이라는 모듈의 weekDay() 함수만 import 시킨다.\n",
    "# from calendarModule import lastDay # calendarModule 이라는 모듈의 lastDay() 함수만 import 시킨다."
   ]
  },
  {
   "cell_type": "markdown",
   "id": "f4d39ed3",
   "metadata": {},
   "source": [
    "위의 2문장에서 import 시키는 함수 weekDay(), lastDay()는 모두 calendarModule 모듈의 함수이므로 아래와 같이 사용할 수 있다."
   ]
  },
  {
   "cell_type": "code",
   "execution_count": 2,
   "id": "f395f878",
   "metadata": {},
   "outputs": [],
   "source": [
    "# from calendarModule import weekDay, lastDay"
   ]
  },
  {
   "cell_type": "markdown",
   "id": "995276c9",
   "metadata": {},
   "source": [
    "아래와 같이 코딩하면 calendarModule 모듈의 모든 함수를 import 시켜서 사용할 수 있다."
   ]
  },
  {
   "cell_type": "code",
   "execution_count": 3,
   "id": "bbd93fcf",
   "metadata": {},
   "outputs": [],
   "source": [
    "from calendarModule import *"
   ]
  },
  {
   "cell_type": "code",
   "execution_count": 4,
   "id": "313911d9",
   "metadata": {},
   "outputs": [
    {
     "name": "stdout",
     "output_type": "stream",
     "text": [
      "달력을 출력할 년, 월을 입력하세요: 2021 6\n",
      "============================\n",
      "         2021년 6월\n",
      "============================\n",
      " 일  월  화  수  목  금  토 \n",
      "============================\n",
      "          1   2   3   4   5 \n",
      "  6   7   8   9  10  11  12 \n",
      " 13  14  15  16  17  18  19 \n",
      " 20  21  22  23  24  25  26 \n",
      " 27  28  29  30 \n",
      "============================\n"
     ]
    }
   ],
   "source": [
    "year, month = map(int, input('달력을 출력할 년, 월을 입력하세요: ').split())\n",
    "\n",
    "print('=' * 28)\n",
    "print('         {0:4d}년{1:2d}월'.format(year, month))\n",
    "print('=' * 28)\n",
    "print(' 일  월  화  수  목  금  토 ')\n",
    "print('=' * 28)\n",
    "\n",
    "for i in range(weekDay(year, month, 1)):\n",
    "    print('    ', end='')\n",
    "\n",
    "for i in range(1, lastDay(year, month) + 1):\n",
    "    print(' {0:2d} '.format(i), end='')\n",
    "    if weekDay(year, month, i) == 6 and i != lastDay(year, month):\n",
    "        print()\n",
    "print('\\n' + '=' * 28)"
   ]
  },
  {
   "cell_type": "code",
   "execution_count": null,
   "id": "92311217",
   "metadata": {},
   "outputs": [],
   "source": []
  },
  {
   "cell_type": "code",
   "execution_count": null,
   "id": "5b93e230",
   "metadata": {},
   "outputs": [],
   "source": []
  },
  {
   "cell_type": "code",
   "execution_count": null,
   "id": "b6ab8678",
   "metadata": {},
   "outputs": [],
   "source": []
  },
  {
   "cell_type": "code",
   "execution_count": null,
   "id": "cc37c34c",
   "metadata": {},
   "outputs": [],
   "source": []
  },
  {
   "cell_type": "code",
   "execution_count": null,
   "id": "1238bf74",
   "metadata": {},
   "outputs": [],
   "source": []
  },
  {
   "cell_type": "code",
   "execution_count": null,
   "id": "3d2f2b07",
   "metadata": {},
   "outputs": [],
   "source": []
  },
  {
   "cell_type": "code",
   "execution_count": null,
   "id": "299d0c35",
   "metadata": {},
   "outputs": [],
   "source": []
  },
  {
   "cell_type": "code",
   "execution_count": null,
   "id": "e454a7e9",
   "metadata": {},
   "outputs": [],
   "source": []
  },
  {
   "cell_type": "code",
   "execution_count": null,
   "id": "69be97ab",
   "metadata": {},
   "outputs": [],
   "source": []
  }
 ],
 "metadata": {
  "kernelspec": {
   "display_name": "Python 3",
   "language": "python",
   "name": "python3"
  },
  "language_info": {
   "codemirror_mode": {
    "name": "ipython",
    "version": 3
   },
   "file_extension": ".py",
   "mimetype": "text/x-python",
   "name": "python",
   "nbconvert_exporter": "python",
   "pygments_lexer": "ipython3",
   "version": "3.9.5"
  }
 },
 "nbformat": 4,
 "nbformat_minor": 5
}
